{
  "cells": [
    {
      "cell_type": "markdown",
      "metadata": {
        "id": "pl-qRnijkQqP"
      },
      "source": [
        " Convolutional Neural Networks (CNN)"
      ]
    },
    {
      "cell_type": "markdown",
      "metadata": {
        "id": "2XJ1pK1xO76L"
      },
      "source": [
        "# Installation"
      ]
    },
    {
      "cell_type": "code",
      "execution_count": null,
      "metadata": {
        "colab": {
          "base_uri": "https://localhost:8080/",
          "height": 36
        },
        "id": "MJUhD8xbkQqQ",
        "outputId": "e4e3b43e-c1e8-438d-fb9c-a8afe20a98d3"
      },
      "outputs": [
        {
          "output_type": "execute_result",
          "data": {
            "text/plain": [
              "'2.15.0'"
            ],
            "application/vnd.google.colaboratory.intrinsic+json": {
              "type": "string"
            }
          },
          "metadata": {},
          "execution_count": 7
        }
      ],
      "source": [
        "import tensorflow\n",
        "tensorflow.__version__"
      ]
    },
    {
      "cell_type": "code",
      "execution_count": null,
      "metadata": {
        "id": "BmvmaqJDkQqR"
      },
      "outputs": [],
      "source": [
        "import pandas as pd\n",
        "import numpy as np\n",
        "import matplotlib.pyplot as plt"
      ]
    },
    {
      "cell_type": "markdown",
      "metadata": {
        "id": "yTh1RNbikQqR"
      },
      "source": [
        "# Importing the fashion mnist data set: https://www.kaggle.com/datasets/zalando-research/fashionmnist\n",
        "* 60,000 train images\n",
        "* 10,000 test images\n",
        "* image size (28,28)\n",
        "\n",
        "**Labels**\n",
        "\n",
        "- 0 T-shirt/top\n",
        "- 1 Trouser\n",
        "- 2 Pullover\n",
        "- 3 Dress\n",
        "- 4 Coat\n",
        "- 5 Sandal\n",
        "- 6 Shirt\n",
        "- 7 Sneaker\n",
        "- 8 Bag\n",
        "- 9 Ankle boot\n",
        "\n",
        "\n",
        "The data set is balanced!"
      ]
    },
    {
      "cell_type": "code",
      "execution_count": null,
      "metadata": {
        "id": "hi62GQOZkQqS"
      },
      "outputs": [],
      "source": [
        "from tensorflow.keras.datasets import fashion_mnist\n",
        "\n",
        "(x_train, y_train) , (x_test, y_test) = fashion_mnist.load_data()"
      ]
    },
    {
      "cell_type": "code",
      "execution_count": null,
      "metadata": {
        "colab": {
          "base_uri": "https://localhost:8080/"
        },
        "id": "xwO9hodtkQqS",
        "outputId": "c358f827-f409-4191-c3b2-f5cfddc70756"
      },
      "outputs": [
        {
          "output_type": "execute_result",
          "data": {
            "text/plain": [
              "(60000, 28, 28)"
            ]
          },
          "metadata": {},
          "execution_count": 10
        }
      ],
      "source": [
        "x_train.shape"
      ]
    },
    {
      "cell_type": "code",
      "execution_count": null,
      "metadata": {
        "colab": {
          "base_uri": "https://localhost:8080/"
        },
        "id": "l1LLhg5YkQqT",
        "outputId": "58ed5229-7255-49d4-ac6d-ff02e6480dd2"
      },
      "outputs": [
        {
          "output_type": "execute_result",
          "data": {
            "text/plain": [
              "(10000, 28, 28)"
            ]
          },
          "metadata": {},
          "execution_count": 11
        }
      ],
      "source": [
        "x_test.shape"
      ]
    },
    {
      "cell_type": "code",
      "execution_count": null,
      "metadata": {
        "colab": {
          "base_uri": "https://localhost:8080/"
        },
        "id": "9dop4jhU0-WZ",
        "outputId": "1cfde605-521c-4134-831e-dbcb365ba0de"
      },
      "outputs": [
        {
          "output_type": "execute_result",
          "data": {
            "text/plain": [
              "(60000,)"
            ]
          },
          "metadata": {},
          "execution_count": 12
        }
      ],
      "source": [
        "y_train.shape"
      ]
    },
    {
      "cell_type": "code",
      "execution_count": null,
      "metadata": {
        "colab": {
          "base_uri": "https://localhost:8080/"
        },
        "id": "xcrN3W2tGhfF",
        "outputId": "f264484c-5041-467a-e192-1a7de93a2342"
      },
      "outputs": [
        {
          "output_type": "execute_result",
          "data": {
            "text/plain": [
              "Counter({9: 6000,\n",
              "         0: 6000,\n",
              "         3: 6000,\n",
              "         2: 6000,\n",
              "         7: 6000,\n",
              "         5: 6000,\n",
              "         1: 6000,\n",
              "         6: 6000,\n",
              "         4: 6000,\n",
              "         8: 6000})"
            ]
          },
          "metadata": {},
          "execution_count": 13
        }
      ],
      "source": [
        "from collections import Counter\n",
        "Counter(y_train)"
      ]
    },
    {
      "cell_type": "code",
      "execution_count": null,
      "metadata": {
        "colab": {
          "base_uri": "https://localhost:8080/",
          "height": 430
        },
        "id": "trRtraYWkQqT",
        "outputId": "787b87c2-2833-4ca8-c92d-a80d6807f05a"
      },
      "outputs": [
        {
          "output_type": "display_data",
          "data": {
            "text/plain": [
              "<Figure size 640x480 with 1 Axes>"
            ],
            "image/png": "[encoded data removed]"
          },
          "metadata": {}
        }
      ],
      "source": [
        "plt.imshow(x_train[1], cmap='Greys')\n",
        "plt.show()"
      ]
    },
    {
      "cell_type": "code",
      "execution_count": null,
      "metadata": {
        "colab": {
          "base_uri": "https://localhost:8080/"
        },
        "id": "UMYdyHnkkQqT",
        "outputId": "adc8c8db-de71-43fe-8734-daa084054673"
      },
      "outputs": [
        {
          "output_type": "execute_result",
          "data": {
            "text/plain": [
              "0"
            ]
          },
          "metadata": {},
          "execution_count": 15
        }
      ],
      "source": [
        "y_train[1]"
      ]
    },
    {
      "cell_type": "markdown",
      "metadata": {
        "id": "ildJuf8V0-Wb"
      },
      "source": [
        "There are two ways we can handle the target variable:\n",
        "1. Using one-hot encoding + categorical_crossentropy loss function\n",
        "2. Using integer labels  + sparse_categorical_crossentropy loss function.\n",
        "\n",
        "\n",
        "When it comes to multi-class classification, it may not make a big difference whether you use integer labels or one-hot encoded labels, as long as the model is able to learn to predict the correct class. However, there are several benefits to using one-hot encoding for categorical variables in general:\n",
        "* No implied ordering\n",
        "* Better generalization: One-hot encoding can lead to better generalization to new data because it allows the model to learn more distinct boundaries between the classes. With integer labels, the model may be tempted to interpolate between adjacent classes, which can lead to overfitting on the training data.\n",
        "* Easier to interpret: One-hot encoding provides a clear and interpretable representation of the classes. Each class is represented by a binary vector, where each element corresponds to a different class.\n"
      ]
    },
    {
      "cell_type": "code",
      "execution_count": null,
      "metadata": {
        "colab": {
          "base_uri": "https://localhost:8080/"
        },
        "id": "aRUrJsEE0-Wb",
        "outputId": "f4a5c73f-be39-4260-efcf-92c148d6a92a"
      },
      "outputs": [
        {
          "output_type": "execute_result",
          "data": {
            "text/plain": [
              "(60000,)"
            ]
          },
          "metadata": {},
          "execution_count": 16
        }
      ],
      "source": [
        "y_train.shape"
      ]
    },
    {
      "cell_type": "code",
      "execution_count": null,
      "metadata": {
        "colab": {
          "base_uri": "https://localhost:8080/"
        },
        "id": "eTb8l-ls0-Wb",
        "outputId": "960ca9b0-1a3d-4a29-8cb0-eb9e93653401"
      },
      "outputs": [
        {
          "output_type": "execute_result",
          "data": {
            "text/plain": [
              "(60000, 10)"
            ]
          },
          "metadata": {},
          "execution_count": 17
        }
      ],
      "source": [
        "from tensorflow.keras.utils import to_categorical\n",
        "y_train_ohe = to_categorical(y_train, num_classes=10)\n",
        "y_train_ohe.shape"
      ]
    },
    {
      "cell_type": "code",
      "execution_count": null,
      "metadata": {
        "colab": {
          "base_uri": "https://localhost:8080/"
        },
        "id": "9qxpwXu20-Wc",
        "outputId": "acba0052-336d-43f0-c774-a77af3f51355"
      },
      "outputs": [
        {
          "output_type": "execute_result",
          "data": {
            "text/plain": [
              "TensorShape([10000, 10])"
            ]
          },
          "metadata": {},
          "execution_count": 18
        }
      ],
      "source": [
        "# alternative way to do one hot encoding\n",
        "import tensorflow as tf\n",
        "y_test_ohe = tf.one_hot(y_test, depth=10)\n",
        "y_test_ohe.shape"
      ]
    },
    {
      "cell_type": "markdown",
      "metadata": {
        "id": "kkjfjpw3kQqU"
      },
      "source": [
        "# Creating an ANN model as benchmark\n",
        "let's start by an ANN model."
      ]
    },
    {
      "cell_type": "code",
      "execution_count": null,
      "metadata": {
        "id": "hWoIRUkBkQqU"
      },
      "outputs": [],
      "source": [
        "import tensorflow as tf\n",
        "from tensorflow import keras\n",
        "from tensorflow.keras import layers\n"
      ]
    },
    {
      "cell_type": "code",
      "execution_count": null,
      "metadata": {
        "colab": {
          "base_uri": "https://localhost:8080/"
        },
        "id": "n8A-3mj0kQqU",
        "outputId": "b3d76506-ebe2-4c99-e8ed-8fc7d7b8b439"
      },
      "outputs": [
        {
          "output_type": "stream",
          "name": "stdout",
          "text": [
            "Train set shape is: (60000, 28, 28)\n",
            "Test set shape is: (10000, 28, 28)\n"
          ]
        }
      ],
      "source": [
        "print(f'Train set shape is: {x_train.shape}')\n",
        "print(f'Test set shape is: {x_test.shape}')"
      ]
    },
    {
      "cell_type": "code",
      "execution_count": null,
      "metadata": {
        "id": "iYGv-F40kQqU"
      },
      "outputs": [],
      "source": [
        "# we need to flatten images and pass it to a FCN.\n",
        "x_train_ann = x_train.reshape(60000, 28*28)\n",
        "x_train_ann = x_train_ann / 255.0\n",
        "\n",
        "x_test_ann = x_test.reshape(10000, 28*28)\n",
        "x_test_ann = x_test_ann / 255.0"
      ]
    },
    {
      "cell_type": "code",
      "execution_count": null,
      "metadata": {
        "colab": {
          "base_uri": "https://localhost:8080/"
        },
        "id": "PLnRUrCzkQqU",
        "outputId": "0dc1efb7-4a7f-4033-fd19-c125df7f0b2a"
      },
      "outputs": [
        {
          "output_type": "execute_result",
          "data": {
            "text/plain": [
              "(60000, 784)"
            ]
          },
          "metadata": {},
          "execution_count": 22
        }
      ],
      "source": [
        "x_train_ann.shape"
      ]
    },
    {
      "cell_type": "code",
      "execution_count": null,
      "metadata": {
        "id": "COo0gxmAkQqV"
      },
      "outputs": [],
      "source": [
        "ann_model = keras.Sequential(name=\"ann_mnist\")\n",
        "ann_model.add(layers.Input(shape=(784,))) # this is the shape of each sample!\n",
        "ann_model.add(layers.Dense(units = 512, activation = 'relu', name=\"first_layer\"))\n",
        "\n",
        "#output layer\n",
        "ann_model.add(layers.Dense(units = 10, activation = 'softmax', name=\"output_layer\"))"
      ]
    },
    {
      "cell_type": "code",
      "execution_count": null,
      "metadata": {
        "colab": {
          "base_uri": "https://localhost:8080/"
        },
        "id": "nm8dNOaXkQqV",
        "outputId": "9322e947-a5be-441c-891e-25dc7672faff"
      },
      "outputs": [
        {
          "output_type": "stream",
          "name": "stdout",
          "text": [
            "Model: \"ann_mnist\"\n",
            "_________________________________________________________________\n",
            " Layer (type)                Output Shape              Param #   \n",
            "=================================================================\n",
            " first_layer (Dense)         (None, 512)               401920    \n",
            "                                                                 \n",
            " output_layer (Dense)        (None, 10)                5130      \n",
            "                                                                 \n",
            "=================================================================\n",
            "Total params: 407050 (1.55 MB)\n",
            "Trainable params: 407050 (1.55 MB)\n",
            "Non-trainable params: 0 (0.00 Byte)\n",
            "_________________________________________________________________\n"
          ]
        }
      ],
      "source": [
        "ann_model.summary()"
      ]
    },
    {
      "cell_type": "code",
      "source": [
        "from tensorflow.keras.utils import plot_model\n",
        "\n",
        "# Assuming 'ann_model' is your defined model\n",
        "plot_model(ann_model, to_file='ann_model_architecture.png', show_shapes=True)\n"
      ],
      "metadata": {
        "colab": {
          "base_uri": "https://localhost:8080/",
          "height": 312
        },
        "id": "MlQivuW2CoUs",
        "outputId": "b4c4e679-e4cb-48a3-cec6-dca40b78d7a4"
      },
      "execution_count": null,
      "outputs": [
        {
          "output_type": "execute_result",
          "data": {
            "image/png": "[encoded data removed]",
            "text/plain": [
              "<IPython.core.display.Image object>"
            ]
          },
          "metadata": {},
          "execution_count": 25
        }
      ]
    },
    {
      "cell_type": "code",
      "source": [
        "\n",
        "import matplotlib.pyplot as plt\n",
        "\n",
        "# Assuming 'ann_model' is your defined model\n",
        "\n",
        "plot_model(ann_model, to_file='ann_model_architecture.png', show_shapes=True, show_layer_names=True)\n",
        "\n",
        "# Load the generated image using Matplotlib\n",
        "img = plt.imread('ann_model_architecture.png')\n",
        "plt.figure(figsize=(5, 5))\n",
        "plt.imshow(img)\n",
        "plt.axis('off')  # Turn off axis labels and ticks\n",
        "plt.show()\n"
      ],
      "metadata": {
        "id": "vxVdtlJHDFw_"
      },
      "execution_count": null,
      "outputs": []
    },
    {
      "cell_type": "code",
      "execution_count": null,
      "metadata": {
        "colab": {
          "base_uri": "https://localhost:8080/"
        },
        "id": "UWb8OxmkkQqV",
        "outputId": "caf79c87-0d9f-4fad-e524-0f95cf097ce5"
      },
      "outputs": [
        {
          "output_type": "execute_result",
          "data": {
            "text/plain": [
              "401920"
            ]
          },
          "metadata": {},
          "execution_count": 19
        }
      ],
      "source": [
        "#params\n",
        "784*512+512\n"
      ]
    },
    {
      "cell_type": "code",
      "execution_count": null,
      "metadata": {
        "colab": {
          "base_uri": "https://localhost:8080/"
        },
        "id": "vzegVFuYkQqV",
        "outputId": "4d4e95a2-adf6-4f2c-8993-efefd553666d"
      },
      "outputs": [
        {
          "output_type": "execute_result",
          "data": {
            "text/plain": [
              "5130"
            ]
          },
          "metadata": {},
          "execution_count": 20
        }
      ],
      "source": [
        "512*10+10"
      ]
    },
    {
      "cell_type": "code",
      "execution_count": null,
      "metadata": {
        "id": "bpcUNyOjkQqW"
      },
      "outputs": [],
      "source": [
        "ann_model.compile(optimizer='rmsprop',\n",
        "                  loss='categorical_crossentropy', metrics=['accuracy'])"
      ]
    },
    {
      "cell_type": "code",
      "execution_count": null,
      "metadata": {
        "id": "g49fLWTN8URK"
      },
      "outputs": [],
      "source": [
        "from tensorflow.keras.callbacks import  ModelCheckpoint\n",
        "modelcheckpoint  = ModelCheckpoint(filepath=\"ANN_benchmark.h5\",save_best_only=True, monitor=\"val_loss\")\n",
        "callback_list    = [modelcheckpoint]"
      ]
    },
    {
      "cell_type": "code",
      "execution_count": null,
      "metadata": {
        "colab": {
          "base_uri": "https://localhost:8080/"
        },
        "id": "NO-07P6QkQqW",
        "outputId": "1ac64e88-ded1-4237-ec71-bede67f42d8a"
      },
      "outputs": [
        {
          "output_type": "stream",
          "name": "stdout",
          "text": [
            "Epoch 1/60\n",
            "469/469 [==============================] - 2s 5ms/step - loss: 0.1320 - accuracy: 0.9515 - val_loss: 0.4257 - val_accuracy: 0.8909\n",
            "Epoch 2/60\n",
            "469/469 [==============================] - 2s 4ms/step - loss: 0.1267 - accuracy: 0.9541 - val_loss: 0.4240 - val_accuracy: 0.8906\n",
            "Epoch 3/60\n",
            "469/469 [==============================] - 2s 4ms/step - loss: 0.1258 - accuracy: 0.9543 - val_loss: 0.4421 - val_accuracy: 0.8916\n",
            "Epoch 4/60\n",
            "469/469 [==============================] - 2s 3ms/step - loss: 0.1220 - accuracy: 0.9557 - val_loss: 0.4427 - val_accuracy: 0.8921\n",
            "Epoch 5/60\n",
            "469/469 [==============================] - 2s 3ms/step - loss: 0.1190 - accuracy: 0.9564 - val_loss: 0.4417 - val_accuracy: 0.8911\n",
            "Epoch 6/60\n",
            "469/469 [==============================] - 2s 3ms/step - loss: 0.1165 - accuracy: 0.9574 - val_loss: 0.4885 - val_accuracy: 0.8823\n",
            "Epoch 7/60\n",
            "469/469 [==============================] - 2s 4ms/step - loss: 0.1155 - accuracy: 0.9585 - val_loss: 0.4507 - val_accuracy: 0.8911\n",
            "Epoch 8/60\n",
            "469/469 [==============================] - 2s 4ms/step - loss: 0.1135 - accuracy: 0.9592 - val_loss: 0.4924 - val_accuracy: 0.8818\n",
            "Epoch 9/60\n",
            "469/469 [==============================] - 2s 5ms/step - loss: 0.1109 - accuracy: 0.9606 - val_loss: 0.4585 - val_accuracy: 0.8933\n",
            "Epoch 10/60\n",
            "469/469 [==============================] - 2s 3ms/step - loss: 0.1086 - accuracy: 0.9603 - val_loss: 0.4495 - val_accuracy: 0.8939\n",
            "Epoch 11/60\n",
            "469/469 [==============================] - 2s 3ms/step - loss: 0.1062 - accuracy: 0.9621 - val_loss: 0.5590 - val_accuracy: 0.8841\n",
            "Epoch 12/60\n",
            "469/469 [==============================] - 2s 3ms/step - loss: 0.1035 - accuracy: 0.9634 - val_loss: 0.4438 - val_accuracy: 0.8981\n",
            "Epoch 13/60\n",
            "469/469 [==============================] - 2s 3ms/step - loss: 0.1005 - accuracy: 0.9636 - val_loss: 0.5148 - val_accuracy: 0.8906\n",
            "Epoch 14/60\n",
            "469/469 [==============================] - 2s 3ms/step - loss: 0.0999 - accuracy: 0.9653 - val_loss: 0.4897 - val_accuracy: 0.8925\n",
            "Epoch 15/60\n",
            "469/469 [==============================] - 2s 4ms/step - loss: 0.0992 - accuracy: 0.9639 - val_loss: 0.4733 - val_accuracy: 0.8936\n",
            "Epoch 16/60\n",
            "469/469 [==============================] - 2s 5ms/step - loss: 0.0969 - accuracy: 0.9655 - val_loss: 0.4953 - val_accuracy: 0.8972\n",
            "Epoch 17/60\n",
            "469/469 [==============================] - 2s 4ms/step - loss: 0.0975 - accuracy: 0.9658 - val_loss: 0.5307 - val_accuracy: 0.8891\n",
            "Epoch 18/60\n",
            "469/469 [==============================] - 2s 3ms/step - loss: 0.0949 - accuracy: 0.9661 - val_loss: 0.5304 - val_accuracy: 0.8945\n",
            "Epoch 19/60\n",
            "469/469 [==============================] - 2s 4ms/step - loss: 0.0934 - accuracy: 0.9671 - val_loss: 0.5461 - val_accuracy: 0.8918\n",
            "Epoch 20/60\n",
            "469/469 [==============================] - 2s 4ms/step - loss: 0.0896 - accuracy: 0.9681 - val_loss: 0.5081 - val_accuracy: 0.8920\n",
            "Epoch 21/60\n",
            "469/469 [==============================] - 2s 3ms/step - loss: 0.0884 - accuracy: 0.9689 - val_loss: 0.5184 - val_accuracy: 0.8939\n",
            "Epoch 22/60\n",
            "469/469 [==============================] - 2s 4ms/step - loss: 0.0859 - accuracy: 0.9694 - val_loss: 0.5535 - val_accuracy: 0.8932\n",
            "Epoch 23/60\n",
            "469/469 [==============================] - 2s 4ms/step - loss: 0.0861 - accuracy: 0.9701 - val_loss: 0.5856 - val_accuracy: 0.8896\n",
            "Epoch 24/60\n",
            "469/469 [==============================] - 2s 4ms/step - loss: 0.0857 - accuracy: 0.9703 - val_loss: 0.5667 - val_accuracy: 0.8953\n",
            "Epoch 25/60\n",
            "469/469 [==============================] - 2s 3ms/step - loss: 0.0840 - accuracy: 0.9715 - val_loss: 0.5743 - val_accuracy: 0.8900\n",
            "Epoch 26/60\n",
            "469/469 [==============================] - 2s 4ms/step - loss: 0.0815 - accuracy: 0.9711 - val_loss: 0.6386 - val_accuracy: 0.8849\n",
            "Epoch 27/60\n",
            "469/469 [==============================] - 2s 4ms/step - loss: 0.0788 - accuracy: 0.9717 - val_loss: 0.5457 - val_accuracy: 0.8975\n",
            "Epoch 28/60\n",
            "469/469 [==============================] - 2s 4ms/step - loss: 0.0769 - accuracy: 0.9727 - val_loss: 0.5479 - val_accuracy: 0.8950\n",
            "Epoch 29/60\n",
            "469/469 [==============================] - 2s 4ms/step - loss: 0.0778 - accuracy: 0.9734 - val_loss: 0.5985 - val_accuracy: 0.8895\n",
            "Epoch 30/60\n",
            "469/469 [==============================] - 2s 4ms/step - loss: 0.0754 - accuracy: 0.9733 - val_loss: 0.6004 - val_accuracy: 0.8968\n",
            "Epoch 31/60\n",
            "469/469 [==============================] - 2s 5ms/step - loss: 0.0745 - accuracy: 0.9740 - val_loss: 0.6015 - val_accuracy: 0.8922\n",
            "Epoch 32/60\n",
            "469/469 [==============================] - 2s 4ms/step - loss: 0.0738 - accuracy: 0.9740 - val_loss: 0.6233 - val_accuracy: 0.8901\n",
            "Epoch 33/60\n",
            "469/469 [==============================] - 2s 3ms/step - loss: 0.0729 - accuracy: 0.9743 - val_loss: 0.6035 - val_accuracy: 0.8944\n",
            "Epoch 34/60\n",
            "469/469 [==============================] - 2s 3ms/step - loss: 0.0707 - accuracy: 0.9759 - val_loss: 0.5970 - val_accuracy: 0.8941\n",
            "Epoch 35/60\n",
            "469/469 [==============================] - 2s 3ms/step - loss: 0.0706 - accuracy: 0.9756 - val_loss: 0.6129 - val_accuracy: 0.8890\n",
            "Epoch 36/60\n",
            "469/469 [==============================] - 2s 4ms/step - loss: 0.0717 - accuracy: 0.9762 - val_loss: 0.6750 - val_accuracy: 0.8877\n",
            "Epoch 37/60\n",
            "469/469 [==============================] - 2s 4ms/step - loss: 0.0690 - accuracy: 0.9765 - val_loss: 0.6331 - val_accuracy: 0.8923\n",
            "Epoch 38/60\n",
            "469/469 [==============================] - 2s 5ms/step - loss: 0.0666 - accuracy: 0.9773 - val_loss: 0.6329 - val_accuracy: 0.8974\n",
            "Epoch 39/60\n",
            "469/469 [==============================] - 2s 4ms/step - loss: 0.0685 - accuracy: 0.9764 - val_loss: 0.6678 - val_accuracy: 0.8926\n",
            "Epoch 40/60\n",
            "469/469 [==============================] - 2s 3ms/step - loss: 0.0670 - accuracy: 0.9771 - val_loss: 0.6893 - val_accuracy: 0.8895\n",
            "Epoch 41/60\n",
            "469/469 [==============================] - 2s 3ms/step - loss: 0.0658 - accuracy: 0.9769 - val_loss: 0.6997 - val_accuracy: 0.8904\n",
            "Epoch 42/60\n",
            "469/469 [==============================] - 2s 4ms/step - loss: 0.0647 - accuracy: 0.9786 - val_loss: 0.6663 - val_accuracy: 0.8876\n",
            "Epoch 43/60\n",
            "469/469 [==============================] - 2s 5ms/step - loss: 0.0639 - accuracy: 0.9787 - val_loss: 0.6645 - val_accuracy: 0.8893\n",
            "Epoch 44/60\n",
            "469/469 [==============================] - 2s 5ms/step - loss: 0.0633 - accuracy: 0.9782 - val_loss: 0.6659 - val_accuracy: 0.8928\n",
            "Epoch 45/60\n",
            "469/469 [==============================] - 2s 5ms/step - loss: 0.0615 - accuracy: 0.9791 - val_loss: 0.6775 - val_accuracy: 0.8914\n",
            "Epoch 46/60\n",
            "469/469 [==============================] - 2s 3ms/step - loss: 0.0593 - accuracy: 0.9791 - val_loss: 0.6941 - val_accuracy: 0.8926\n",
            "Epoch 47/60\n",
            "469/469 [==============================] - 2s 3ms/step - loss: 0.0604 - accuracy: 0.9793 - val_loss: 0.6959 - val_accuracy: 0.8891\n",
            "Epoch 48/60\n",
            "469/469 [==============================] - 2s 3ms/step - loss: 0.0599 - accuracy: 0.9800 - val_loss: 0.7647 - val_accuracy: 0.8882\n",
            "Epoch 49/60\n",
            "469/469 [==============================] - 2s 4ms/step - loss: 0.0579 - accuracy: 0.9803 - val_loss: 0.7333 - val_accuracy: 0.8926\n",
            "Epoch 50/60\n",
            "469/469 [==============================] - 2s 3ms/step - loss: 0.0588 - accuracy: 0.9802 - val_loss: 0.6944 - val_accuracy: 0.8935\n",
            "Epoch 51/60\n",
            "469/469 [==============================] - 2s 3ms/step - loss: 0.0557 - accuracy: 0.9816 - val_loss: 0.8040 - val_accuracy: 0.8892\n",
            "Epoch 52/60\n",
            "469/469 [==============================] - 2s 5ms/step - loss: 0.0581 - accuracy: 0.9807 - val_loss: 0.7666 - val_accuracy: 0.8857\n",
            "Epoch 53/60\n",
            "469/469 [==============================] - 2s 4ms/step - loss: 0.0565 - accuracy: 0.9806 - val_loss: 0.7282 - val_accuracy: 0.8949\n",
            "Epoch 54/60\n",
            "469/469 [==============================] - 2s 4ms/step - loss: 0.0554 - accuracy: 0.9810 - val_loss: 0.7216 - val_accuracy: 0.8944\n",
            "Epoch 55/60\n",
            "469/469 [==============================] - 2s 3ms/step - loss: 0.0548 - accuracy: 0.9811 - val_loss: 0.7275 - val_accuracy: 0.8906\n",
            "Epoch 56/60\n",
            "469/469 [==============================] - 2s 4ms/step - loss: 0.0528 - accuracy: 0.9819 - val_loss: 0.7364 - val_accuracy: 0.8950\n",
            "Epoch 57/60\n",
            "469/469 [==============================] - 2s 4ms/step - loss: 0.0533 - accuracy: 0.9819 - val_loss: 0.7538 - val_accuracy: 0.8943\n",
            "Epoch 58/60\n",
            "469/469 [==============================] - 2s 3ms/step - loss: 0.0554 - accuracy: 0.9821 - val_loss: 0.7272 - val_accuracy: 0.8931\n",
            "Epoch 59/60\n",
            "469/469 [==============================] - 2s 4ms/step - loss: 0.0506 - accuracy: 0.9827 - val_loss: 0.7410 - val_accuracy: 0.8947\n",
            "Epoch 60/60\n",
            "469/469 [==============================] - 2s 5ms/step - loss: 0.0515 - accuracy: 0.9826 - val_loss: 0.8132 - val_accuracy: 0.8915\n"
          ]
        },
        {
          "output_type": "execute_result",
          "data": {
            "text/plain": [
              "<keras.src.callbacks.History at 0x7b5770438c40>"
            ]
          },
          "metadata": {},
          "execution_count": 30
        }
      ],
      "source": [
        "ann_model.fit(x_train_ann, y_train_ohe, validation_data=(x_test_ann, y_test_ohe), epochs=60, batch_size=128, callbacks=callback_list)"
      ]
    },
    {
      "cell_type": "code",
      "execution_count": null,
      "metadata": {
        "colab": {
          "base_uri": "https://localhost:8080/"
        },
        "id": "lDXtg5iakQqW",
        "outputId": "8a4c66fa-c78d-4873-983e-235e5c0c2266"
      },
      "outputs": [
        {
          "output_type": "stream",
          "name": "stdout",
          "text": [
            "313/313 [==============================] - 1s 2ms/step - loss: 0.3413 - accuracy: 0.8862\n"
          ]
        },
        {
          "output_type": "execute_result",
          "data": {
            "text/plain": [
              "[0.34131428599357605, 0.8862000107765198]"
            ]
          },
          "metadata": {},
          "execution_count": 31
        }
      ],
      "source": [
        "test_model = keras.models.load_model(\"ANN_benchmark.h5\")\n",
        "test_model.evaluate(x_test_ann, y_test_ohe)"
      ]
    },
    {
      "cell_type": "markdown",
      "metadata": {
        "id": "Rom6aeaDkQqW"
      },
      "source": [
        "ANN accuracy in the test set is around 89%. We want to see how CNN improves this accuracy."
      ]
    },
    {
      "cell_type": "markdown",
      "metadata": {
        "id": "s6BKzD9HkQqX"
      },
      "source": [
        "# Convolutional Neural Networks (CNN)"
      ]
    },
    {
      "cell_type": "code",
      "execution_count": null,
      "metadata": {
        "colab": {
          "base_uri": "https://localhost:8080/"
        },
        "id": "P2p-O0xVkQqX",
        "outputId": "44ed6d67-8b68-4434-e654-39bf62cea0c3"
      },
      "outputs": [
        {
          "output_type": "execute_result",
          "data": {
            "text/plain": [
              "(60000, 28, 28)"
            ]
          },
          "metadata": {},
          "execution_count": 32
        }
      ],
      "source": [
        "# reshaping\n",
        "x_train.shape"
      ]
    },
    {
      "cell_type": "code",
      "execution_count": null,
      "metadata": {
        "id": "2Hl5z7wEkQqX"
      },
      "outputs": [],
      "source": [
        "x_train = x_train.reshape((60000, 28,28,1))\n",
        "x_train = x_train / 255.0\n",
        "\n",
        "x_test = x_test.reshape((10000, 28,28,1))\n",
        "x_test  = x_test / 255.0"
      ]
    },
    {
      "cell_type": "code",
      "execution_count": null,
      "metadata": {
        "colab": {
          "base_uri": "https://localhost:8080/"
        },
        "id": "qKGaU-CjkQqX",
        "outputId": "8683fad3-ec12-4147-dc4c-c9a331167e36"
      },
      "outputs": [
        {
          "output_type": "execute_result",
          "data": {
            "text/plain": [
              "(60000, 28, 28, 1)"
            ]
          },
          "metadata": {},
          "execution_count": 34
        }
      ],
      "source": [
        "x_train.shape"
      ]
    },
    {
      "cell_type": "code",
      "execution_count": null,
      "metadata": {
        "colab": {
          "base_uri": "https://localhost:8080/"
        },
        "id": "lrX6nTRxkQqX",
        "outputId": "9dfc70a2-dc1e-4aa2-d035-0cc1364b8592"
      },
      "outputs": [
        {
          "output_type": "execute_result",
          "data": {
            "text/plain": [
              "(10000, 28, 28, 1)"
            ]
          },
          "metadata": {},
          "execution_count": 35
        }
      ],
      "source": [
        "x_test.shape"
      ]
    },
    {
      "cell_type": "markdown",
      "metadata": {
        "id": "gKjhgGvbkQqX"
      },
      "source": [
        "## Creating a CNN model:\n",
        "\n",
        "This is the benchmark CNN we build. No regularization (no drop out or data augmentation)\n"
      ]
    },
    {
      "cell_type": "code",
      "execution_count": null,
      "metadata": {
        "id": "GhaAzZR9kQqX"
      },
      "outputs": [],
      "source": [
        "import tensorflow as tf\n",
        "from tensorflow import keras\n",
        "from tensorflow.keras import layers"
      ]
    },
    {
      "cell_type": "code",
      "execution_count": null,
      "metadata": {
        "id": "PCsGkLNdkQqY"
      },
      "outputs": [],
      "source": [
        "# we will be using functional api\n",
        "\n",
        "def CNN_builder():\n",
        "    inputs= keras.Input(shape=(28,28,1), name='Input layer')\n",
        "    x = layers.Conv2D(filters= 32, kernel_size = 3, strides = (1,1) , padding='valid',  activation='relu' ,name=\"conv_layer_1\")(inputs)\n",
        "    x = layers.MaxPool2D(pool_size=2, name=\"pooling_1\")(x)\n",
        "    x = layers.Conv2D(filters= 64, kernel_size = 3, activation='relu', name=\"conv_layer_2\")(x)\n",
        "    x = layers.MaxPool2D(pool_size=2, name=\"pooling_2\")(x)\n",
        "    x = layers.Conv2D(filters= 128, kernel_size = 3, activation='relu', name=\"conv_layer_3\")(x)\n",
        "    x = layers.Flatten(name=\"flattening_layer\")(x)\n",
        "\n",
        "    outputs = layers.Dense(units= 10, activation='softmax', name='output_layer')(x)\n",
        "\n",
        "    model = keras.Model(inputs= inputs , outputs=outputs, name='my_first_CNN_model')\n",
        "\n",
        "    model.compile(optimizer='rmsprop',\n",
        "                  loss='categorical_crossentropy',\n",
        "                  metrics=['accuracy'])\n",
        "\n",
        "    return model"
      ]
    },
    {
      "cell_type": "code",
      "execution_count": null,
      "metadata": {
        "colab": {
          "base_uri": "https://localhost:8080/"
        },
        "id": "FHeC1vM_kQqY",
        "outputId": "8dfeb8be-107f-46c8-c3f7-91e723f64f21"
      },
      "outputs": [
        {
          "output_type": "stream",
          "name": "stdout",
          "text": [
            "Model: \"my_first_CNN_model\"\n",
            "_________________________________________________________________\n",
            " Layer (type)                Output Shape              Param #   \n",
            "=================================================================\n",
            " Input layer (InputLayer)    [(None, 28, 28, 1)]       0         \n",
            "                                                                 \n",
            " conv_layer_1 (Conv2D)       (None, 26, 26, 32)        320       \n",
            "                                                                 \n",
            " pooling_1 (MaxPooling2D)    (None, 13, 13, 32)        0         \n",
            "                                                                 \n",
            " conv_layer_2 (Conv2D)       (None, 11, 11, 64)        18496     \n",
            "                                                                 \n",
            " pooling_2 (MaxPooling2D)    (None, 5, 5, 64)          0         \n",
            "                                                                 \n",
            " conv_layer_3 (Conv2D)       (None, 3, 3, 128)         73856     \n",
            "                                                                 \n",
            " flattening_layer (Flatten)  (None, 1152)              0         \n",
            "                                                                 \n",
            " output_layer (Dense)        (None, 10)                11530     \n",
            "                                                                 \n",
            "=================================================================\n",
            "Total params: 104202 (407.04 KB)\n",
            "Trainable params: 104202 (407.04 KB)\n",
            "Non-trainable params: 0 (0.00 Byte)\n",
            "_________________________________________________________________\n"
          ]
        }
      ],
      "source": [
        "model = CNN_builder()\n",
        "model.summary()"
      ]
    },
    {
      "cell_type": "code",
      "execution_count": null,
      "metadata": {
        "colab": {
          "base_uri": "https://localhost:8080/"
        },
        "id": "ty9VywYqkQqY",
        "outputId": "ac8130c9-f2d2-49a2-b564-e06d0b31f6d2"
      },
      "outputs": [
        {
          "output_type": "execute_result",
          "data": {
            "text/plain": [
              "320"
            ]
          },
          "metadata": {},
          "execution_count": 34
        }
      ],
      "source": [
        "# params\n",
        "1*(3*3)*32 + 32"
      ]
    },
    {
      "cell_type": "code",
      "execution_count": null,
      "metadata": {
        "colab": {
          "base_uri": "https://localhost:8080/"
        },
        "id": "1SHb92qnkQqY",
        "outputId": "32a751f5-40e4-4fea-fe4a-228483186acf"
      },
      "outputs": [
        {
          "output_type": "execute_result",
          "data": {
            "text/plain": [
              "18496"
            ]
          },
          "metadata": {},
          "execution_count": 33
        }
      ],
      "source": [
        "32*(3*3)*64+64"
      ]
    },
    {
      "cell_type": "code",
      "execution_count": null,
      "metadata": {
        "colab": {
          "base_uri": "https://localhost:8080/"
        },
        "id": "juTrCF-RkQqY",
        "outputId": "cb4933a5-20ea-4030-cd84-458232f7a319"
      },
      "outputs": [
        {
          "output_type": "execute_result",
          "data": {
            "text/plain": [
              "73856"
            ]
          },
          "metadata": {},
          "execution_count": 35
        }
      ],
      "source": [
        "64*(3*3)*128+128"
      ]
    },
    {
      "cell_type": "code",
      "execution_count": null,
      "metadata": {
        "colab": {
          "base_uri": "https://localhost:8080/"
        },
        "id": "BYKvGW7mkQqY",
        "outputId": "e4b3761b-383c-49d5-eda9-92643742721a"
      },
      "outputs": [
        {
          "output_type": "execute_result",
          "data": {
            "text/plain": [
              "1152"
            ]
          },
          "metadata": {},
          "execution_count": 36
        }
      ],
      "source": [
        "3*3*128"
      ]
    },
    {
      "cell_type": "code",
      "execution_count": null,
      "metadata": {
        "colab": {
          "base_uri": "https://localhost:8080/"
        },
        "id": "QVy3YG8VkQqY",
        "outputId": "71601e96-d2a6-4f24-974e-439378c74255"
      },
      "outputs": [
        {
          "output_type": "execute_result",
          "data": {
            "text/plain": [
              "11530"
            ]
          },
          "metadata": {},
          "execution_count": 37
        }
      ],
      "source": [
        "1152*10+10"
      ]
    },
    {
      "cell_type": "markdown",
      "metadata": {
        "id": "BWRsHDnFkQqZ"
      },
      "source": [
        "output shape:\n",
        "* channels are the number of filters\n",
        "* new size = $floor(\\frac{n_{old} + 2p - f}{s} + 1)$\n",
        "* each pooling will half the width and height"
      ]
    },
    {
      "cell_type": "code",
      "execution_count": null,
      "metadata": {
        "colab": {
          "base_uri": "https://localhost:8080/"
        },
        "id": "wwcTBvtPkQqZ",
        "outputId": "488eb346-5791-4409-fff8-93a634d096c0"
      },
      "outputs": [
        {
          "output_type": "execute_result",
          "data": {
            "text/plain": [
              "26.0"
            ]
          },
          "metadata": {},
          "execution_count": 34
        }
      ],
      "source": [
        "# for example, the output shape of conv_layer 1 is (None, 26,26, 32)\n",
        "np.floor(((28+0-3)/1)+1)"
      ]
    },
    {
      "cell_type": "markdown",
      "metadata": {
        "id": "2sWv9MZdkQqZ"
      },
      "source": [
        "## Model fit\n"
      ]
    },
    {
      "cell_type": "code",
      "execution_count": null,
      "metadata": {
        "id": "dM9Am1zMGhfL"
      },
      "outputs": [],
      "source": [
        "from tensorflow.keras.callbacks import  ModelCheckpoint\n",
        "modelcheckpoint  = ModelCheckpoint(filepath=\"CNN_basic.h5\",save_best_only=True, monitor=\"val_loss\")\n",
        "callback_list    = [modelcheckpoint]"
      ]
    },
    {
      "cell_type": "code",
      "execution_count": null,
      "metadata": {
        "colab": {
          "base_uri": "https://localhost:8080/"
        },
        "id": "TPPc640RkQqZ",
        "outputId": "13b67bfa-e7ab-49a7-a7c8-576d04c3f65f"
      },
      "outputs": [
        {
          "output_type": "stream",
          "name": "stdout",
          "text": [
            "Epoch 1/30\n",
            "469/469 [==============================] - 6s 6ms/step - loss: 0.5905 - accuracy: 0.7836 - val_loss: 0.4218 - val_accuracy: 0.8543\n",
            "Epoch 2/30\n",
            "469/469 [==============================] - 3s 7ms/step - loss: 0.3643 - accuracy: 0.8664 - val_loss: 0.3490 - val_accuracy: 0.8761\n",
            "Epoch 3/30\n",
            "469/469 [==============================] - 2s 5ms/step - loss: 0.3075 - accuracy: 0.8883 - val_loss: 0.3127 - val_accuracy: 0.8871\n",
            "Epoch 4/30\n",
            "469/469 [==============================] - 2s 5ms/step - loss: 0.2776 - accuracy: 0.8979 - val_loss: 0.3007 - val_accuracy: 0.8908\n",
            "Epoch 5/30\n",
            "469/469 [==============================] - 2s 5ms/step - loss: 0.2531 - accuracy: 0.9088 - val_loss: 0.2965 - val_accuracy: 0.8944\n",
            "Epoch 6/30\n",
            "469/469 [==============================] - 2s 5ms/step - loss: 0.2329 - accuracy: 0.9141 - val_loss: 0.3377 - val_accuracy: 0.8823\n",
            "Epoch 7/30\n",
            "469/469 [==============================] - 3s 7ms/step - loss: 0.2174 - accuracy: 0.9205 - val_loss: 0.2694 - val_accuracy: 0.9010\n",
            "Epoch 8/30\n",
            "469/469 [==============================] - 3s 6ms/step - loss: 0.2016 - accuracy: 0.9252 - val_loss: 0.2602 - val_accuracy: 0.9098\n",
            "Epoch 9/30\n",
            "469/469 [==============================] - 2s 5ms/step - loss: 0.1880 - accuracy: 0.9308 - val_loss: 0.2595 - val_accuracy: 0.9098\n",
            "Epoch 10/30\n",
            "469/469 [==============================] - 2s 5ms/step - loss: 0.1741 - accuracy: 0.9363 - val_loss: 0.2640 - val_accuracy: 0.9089\n",
            "Epoch 11/30\n",
            "469/469 [==============================] - 2s 5ms/step - loss: 0.1617 - accuracy: 0.9413 - val_loss: 0.2693 - val_accuracy: 0.9070\n",
            "Epoch 12/30\n",
            "469/469 [==============================] - 3s 6ms/step - loss: 0.1505 - accuracy: 0.9457 - val_loss: 0.2674 - val_accuracy: 0.9097\n",
            "Epoch 13/30\n",
            "469/469 [==============================] - 3s 6ms/step - loss: 0.1403 - accuracy: 0.9488 - val_loss: 0.2586 - val_accuracy: 0.9117\n",
            "Epoch 14/30\n",
            "469/469 [==============================] - 2s 5ms/step - loss: 0.1296 - accuracy: 0.9525 - val_loss: 0.2763 - val_accuracy: 0.9119\n",
            "Epoch 15/30\n",
            "469/469 [==============================] - 2s 5ms/step - loss: 0.1196 - accuracy: 0.9561 - val_loss: 0.2828 - val_accuracy: 0.9144\n",
            "Epoch 16/30\n",
            "469/469 [==============================] - 2s 5ms/step - loss: 0.1102 - accuracy: 0.9598 - val_loss: 0.2803 - val_accuracy: 0.9106\n",
            "Epoch 17/30\n",
            "469/469 [==============================] - 3s 6ms/step - loss: 0.1019 - accuracy: 0.9630 - val_loss: 0.3121 - val_accuracy: 0.9082\n",
            "Epoch 18/30\n",
            "469/469 [==============================] - 3s 6ms/step - loss: 0.0937 - accuracy: 0.9664 - val_loss: 0.3102 - val_accuracy: 0.9101\n",
            "Epoch 19/30\n",
            "469/469 [==============================] - 2s 5ms/step - loss: 0.0866 - accuracy: 0.9683 - val_loss: 0.3200 - val_accuracy: 0.9061\n",
            "Epoch 20/30\n",
            "469/469 [==============================] - 2s 5ms/step - loss: 0.0801 - accuracy: 0.9706 - val_loss: 0.3675 - val_accuracy: 0.9025\n",
            "Epoch 21/30\n",
            "469/469 [==============================] - 2s 5ms/step - loss: 0.0740 - accuracy: 0.9735 - val_loss: 0.3646 - val_accuracy: 0.9096\n",
            "Epoch 22/30\n",
            "469/469 [==============================] - 3s 6ms/step - loss: 0.0661 - accuracy: 0.9764 - val_loss: 0.3624 - val_accuracy: 0.9078\n",
            "Epoch 23/30\n",
            "469/469 [==============================] - 3s 6ms/step - loss: 0.0619 - accuracy: 0.9772 - val_loss: 0.3796 - val_accuracy: 0.9067\n",
            "Epoch 24/30\n",
            "469/469 [==============================] - 3s 5ms/step - loss: 0.0566 - accuracy: 0.9791 - val_loss: 0.4155 - val_accuracy: 0.9066\n",
            "Epoch 25/30\n",
            "469/469 [==============================] - 2s 5ms/step - loss: 0.0532 - accuracy: 0.9804 - val_loss: 0.4169 - val_accuracy: 0.9040\n",
            "Epoch 26/30\n",
            "469/469 [==============================] - 3s 5ms/step - loss: 0.0488 - accuracy: 0.9824 - val_loss: 0.4350 - val_accuracy: 0.9103\n",
            "Epoch 27/30\n",
            "469/469 [==============================] - 3s 6ms/step - loss: 0.0444 - accuracy: 0.9837 - val_loss: 0.4429 - val_accuracy: 0.9072\n",
            "Epoch 28/30\n",
            "469/469 [==============================] - 3s 6ms/step - loss: 0.0417 - accuracy: 0.9850 - val_loss: 0.4594 - val_accuracy: 0.9085\n",
            "Epoch 29/30\n",
            "469/469 [==============================] - 2s 5ms/step - loss: 0.0386 - accuracy: 0.9858 - val_loss: 0.4842 - val_accuracy: 0.9044\n",
            "Epoch 30/30\n",
            "469/469 [==============================] - 2s 5ms/step - loss: 0.0370 - accuracy: 0.9868 - val_loss: 0.4778 - val_accuracy: 0.9090\n"
          ]
        }
      ],
      "source": [
        "history = model.fit(x=x_train, y=y_train_ohe, validation_data=(x_test, y_test_ohe),\n",
        "          epochs=30, batch_size=128, callbacks=callback_list)"
      ]
    },
    {
      "cell_type": "code",
      "execution_count": null,
      "metadata": {
        "colab": {
          "base_uri": "https://localhost:8080/"
        },
        "id": "E7oM9C0RkQqZ",
        "outputId": "160776ff-b3f5-4605-e661-ddaac5631c8f"
      },
      "outputs": [
        {
          "output_type": "stream",
          "name": "stdout",
          "text": [
            "313/313 [==============================] - 1s 3ms/step - loss: 0.2586 - accuracy: 0.9117\n"
          ]
        },
        {
          "output_type": "execute_result",
          "data": {
            "text/plain": [
              "[0.2586197853088379, 0.9117000102996826]"
            ]
          },
          "metadata": {},
          "execution_count": 41
        }
      ],
      "source": [
        "test_model = keras.models.load_model(\"CNN_basic.h5\")\n",
        "test_model.evaluate(x_test, y_test_ohe)"
      ]
    },
    {
      "cell_type": "markdown",
      "metadata": {
        "id": "Cn15APtNnHOq"
      },
      "source": [
        "As you can see, the CNN performs better in the test set with 91% accuracy."
      ]
    },
    {
      "cell_type": "markdown",
      "metadata": {
        "id": "8CnhIiXEtzQ4"
      },
      "source": [
        "## Model evaluation"
      ]
    },
    {
      "cell_type": "code",
      "execution_count": null,
      "metadata": {
        "colab": {
          "base_uri": "https://localhost:8080/"
        },
        "id": "nUZzV0tsty6g",
        "outputId": "dd694a3d-5667-4510-da28-0695f36aad78"
      },
      "outputs": [
        {
          "output_type": "execute_result",
          "data": {
            "text/plain": [
              "['loss', 'accuracy']"
            ]
          },
          "metadata": {},
          "execution_count": 42
        }
      ],
      "source": [
        "model.metrics_names"
      ]
    },
    {
      "cell_type": "code",
      "execution_count": null,
      "metadata": {
        "id": "41npjyAEtyiA"
      },
      "outputs": [],
      "source": [
        "metrics = pd.DataFrame(history.history)"
      ]
    },
    {
      "cell_type": "code",
      "execution_count": null,
      "metadata": {
        "colab": {
          "base_uri": "https://localhost:8080/",
          "height": 206
        },
        "id": "0oirPWCWuHNI",
        "outputId": "1b71a84c-7f71-4b38-af34-f4bdc9e81830"
      },
      "outputs": [
        {
          "output_type": "execute_result",
          "data": {
            "text/plain": [
              "       loss  accuracy  val_loss  val_accuracy\n",
              "0  0.590466  0.783583  0.421806        0.8543\n",
              "1  0.364339  0.866367  0.348952        0.8761\n",
              "2  0.307549  0.888283  0.312684        0.8871\n",
              "3  0.277640  0.897883  0.300744        0.8908\n",
              "4  0.253085  0.908767  0.296473        0.8944"
            ],
            "text/html": [
              "\n",
              "  <div id=\"df-cd4eb303-100a-4698-9dad-163f0aa0bfae\" class=\"colab-df-container\">\n",
              "    <div>\n",
              "<style scoped>\n",
              "    .dataframe tbody tr th:only-of-type {\n",
              "        vertical-align: middle;\n",
              "    }\n",
              "\n",
              "    .dataframe tbody tr th {\n",
              "        vertical-align: top;\n",
              "    }\n",
              "\n",
              "    .dataframe thead th {\n",
              "        text-align: right;\n",
              "    }\n",
              "</style>\n",
              "<table border=\"1\" class=\"dataframe\">\n",
              "  <thead>\n",
              "    <tr style=\"text-align: right;\">\n",
              "      <th></th>\n",
              "      <th>loss</th>\n",
              "      <th>accuracy</th>\n",
              "      <th>val_loss</th>\n",
              "      <th>val_accuracy</th>\n",
              "    </tr>\n",
              "  </thead>\n",
              "  <tbody>\n",
              "    <tr>\n",
              "      <th>0</th>\n",
              "      <td>0.590466</td>\n",
              "      <td>0.783583</td>\n",
              "      <td>0.421806</td>\n",
              "      <td>0.8543</td>\n",
              "    </tr>\n",
              "    <tr>\n",
              "      <th>1</th>\n",
              "      <td>0.364339</td>\n",
              "      <td>0.866367</td>\n",
              "      <td>0.348952</td>\n",
              "      <td>0.8761</td>\n",
              "    </tr>\n",
              "    <tr>\n",
              "      <th>2</th>\n",
              "      <td>0.307549</td>\n",
              "      <td>0.888283</td>\n",
              "      <td>0.312684</td>\n",
              "      <td>0.8871</td>\n",
              "    </tr>\n",
              "    <tr>\n",
              "      <th>3</th>\n",
              "      <td>0.277640</td>\n",
              "      <td>0.897883</td>\n",
              "      <td>0.300744</td>\n",
              "      <td>0.8908</td>\n",
              "    </tr>\n",
              "    <tr>\n",
              "      <th>4</th>\n",
              "      <td>0.253085</td>\n",
              "      <td>0.908767</td>\n",
              "      <td>0.296473</td>\n",
              "      <td>0.8944</td>\n",
              "    </tr>\n",
              "  </tbody>\n",
              "</table>\n",
              "</div>\n",
              "    <div class=\"colab-df-buttons\">\n",
              "\n",
              "  <div class=\"colab-df-container\">\n",
              "    <button class=\"colab-df-convert\" onclick=\"convertToInteractive('df-cd4eb303-100a-4698-9dad-163f0aa0bfae')\"\n",
              "            title=\"Convert this dataframe to an interactive table.\"\n",
              "            style=\"display:none;\">\n",
              "\n",
              "  <svg xmlns=\"http://www.w3.org/2000/svg\" height=\"24px\" viewBox=\"0 -960 960 960\">\n",
              "    <path d=\"M120-120v-720h720v720H120Zm60-500h600v-160H180v160Zm220 220h160v-160H400v160Zm0 220h160v-160H400v160ZM180-400h160v-160H180v160Zm440 0h160v-160H620v160ZM180-180h160v-160H180v160Zm440 0h160v-160H620v160Z\"/>\n",
              "  </svg>\n",
              "    </button>\n",
              "\n",
              "  <style>\n",
              "    .colab-df-container {\n",
              "      display:flex;\n",
              "      gap: 12px;\n",
              "    }\n",
              "\n",
              "    .colab-df-convert {\n",
              "      background-color: #E8F0FE;\n",
              "      border: none;\n",
              "      border-radius: 50%;\n",
              "      cursor: pointer;\n",
              "      display: none;\n",
              "      fill: #1967D2;\n",
              "      height: 32px;\n",
              "      padding: 0 0 0 0;\n",
              "      width: 32px;\n",
              "    }\n",
              "\n",
              "    .colab-df-convert:hover {\n",
              "      background-color: #E2EBFA;\n",
              "      box-shadow: 0px 1px 2px rgba(60, 64, 67, 0.3), 0px 1px 3px 1px rgba(60, 64, 67, 0.15);\n",
              "      fill: #174EA6;\n",
              "    }\n",
              "\n",
              "    .colab-df-buttons div {\n",
              "      margin-bottom: 4px;\n",
              "    }\n",
              "\n",
              "    [theme=dark] .colab-df-convert {\n",
              "      background-color: #3B4455;\n",
              "      fill: #D2E3FC;\n",
              "    }\n",
              "\n",
              "    [theme=dark] .colab-df-convert:hover {\n",
              "      background-color: #434B5C;\n",
              "      box-shadow: 0px 1px 3px 1px rgba(0, 0, 0, 0.15);\n",
              "      filter: drop-shadow(0px 1px 2px rgba(0, 0, 0, 0.3));\n",
              "      fill: #FFFFFF;\n",
              "    }\n",
              "  </style>\n",
              "\n",
              "    <script>\n",
              "      const buttonEl =\n",
              "        document.querySelector('#df-cd4eb303-100a-4698-9dad-163f0aa0bfae button.colab-df-convert');\n",
              "      buttonEl.style.display =\n",
              "        google.colab.kernel.accessAllowed ? 'block' : 'none';\n",
              "\n",
              "      async function convertToInteractive(key) {\n",
              "        const element = document.querySelector('#df-cd4eb303-100a-4698-9dad-163f0aa0bfae');\n",
              "        const dataTable =\n",
              "          await google.colab.kernel.invokeFunction('convertToInteractive',\n",
              "                                                    [key], {});\n",
              "        if (!dataTable) return;\n",
              "\n",
              "        const docLinkHtml = 'Like what you see? Visit the ' +\n",
              "          '<a target=\"_blank\" href=https://colab.research.google.com/notebooks/data_table.ipynb>data table notebook</a>'\n",
              "          + ' to learn more about interactive tables.';\n",
              "        element.innerHTML = '';\n",
              "        dataTable['output_type'] = 'display_data';\n",
              "        await google.colab.output.renderOutput(dataTable, element);\n",
              "        const docLink = document.createElement('div');\n",
              "        docLink.innerHTML = docLinkHtml;\n",
              "        element.appendChild(docLink);\n",
              "      }\n",
              "    </script>\n",
              "  </div>\n",
              "\n",
              "\n",
              "<div id=\"df-649bdb88-ee4e-4fc7-b94b-dafc2305cfac\">\n",
              "  <button class=\"colab-df-quickchart\" onclick=\"quickchart('df-649bdb88-ee4e-4fc7-b94b-dafc2305cfac')\"\n",
              "            title=\"Suggest charts\"\n",
              "            style=\"display:none;\">\n",
              "\n",
              "<svg xmlns=\"http://www.w3.org/2000/svg\" height=\"24px\"viewBox=\"0 0 24 24\"\n",
              "     width=\"24px\">\n",
              "    <g>\n",
              "        <path d=\"M19 3H5c-1.1 0-2 .9-2 2v14c0 1.1.9 2 2 2h14c1.1 0 2-.9 2-2V5c0-1.1-.9-2-2-2zM9 17H7v-7h2v7zm4 0h-2V7h2v10zm4 0h-2v-4h2v4z\"/>\n",
              "    </g>\n",
              "</svg>\n",
              "  </button>\n",
              "\n",
              "<style>\n",
              "  .colab-df-quickchart {\n",
              "      --bg-color: #E8F0FE;\n",
              "      --fill-color: #1967D2;\n",
              "      --hover-bg-color: #E2EBFA;\n",
              "      --hover-fill-color: #174EA6;\n",
              "      --disabled-fill-color: #AAA;\n",
              "      --disabled-bg-color: #DDD;\n",
              "  }\n",
              "\n",
              "  [theme=dark] .colab-df-quickchart {\n",
              "      --bg-color: #3B4455;\n",
              "      --fill-color: #D2E3FC;\n",
              "      --hover-bg-color: #434B5C;\n",
              "      --hover-fill-color: #FFFFFF;\n",
              "      --disabled-bg-color: #3B4455;\n",
              "      --disabled-fill-color: #666;\n",
              "  }\n",
              "\n",
              "  .colab-df-quickchart {\n",
              "    background-color: var(--bg-color);\n",
              "    border: none;\n",
              "    border-radius: 50%;\n",
              "    cursor: pointer;\n",
              "    display: none;\n",
              "    fill: var(--fill-color);\n",
              "    height: 32px;\n",
              "    padding: 0;\n",
              "    width: 32px;\n",
              "  }\n",
              "\n",
              "  .colab-df-quickchart:hover {\n",
              "    background-color: var(--hover-bg-color);\n",
              "    box-shadow: 0 1px 2px rgba(60, 64, 67, 0.3), 0 1px 3px 1px rgba(60, 64, 67, 0.15);\n",
              "    fill: var(--button-hover-fill-color);\n",
              "  }\n",
              "\n",
              "  .colab-df-quickchart-complete:disabled,\n",
              "  .colab-df-quickchart-complete:disabled:hover {\n",
              "    background-color: var(--disabled-bg-color);\n",
              "    fill: var(--disabled-fill-color);\n",
              "    box-shadow: none;\n",
              "  }\n",
              "\n",
              "  .colab-df-spinner {\n",
              "    border: 2px solid var(--fill-color);\n",
              "    border-color: transparent;\n",
              "    border-bottom-color: var(--fill-color);\n",
              "    animation:\n",
              "      spin 1s steps(1) infinite;\n",
              "  }\n",
              "\n",
              "  @keyframes spin {\n",
              "    0% {\n",
              "      border-color: transparent;\n",
              "      border-bottom-color: var(--fill-color);\n",
              "      border-left-color: var(--fill-color);\n",
              "    }\n",
              "    20% {\n",
              "      border-color: transparent;\n",
              "      border-left-color: var(--fill-color);\n",
              "      border-top-color: var(--fill-color);\n",
              "    }\n",
              "    30% {\n",
              "      border-color: transparent;\n",
              "      border-left-color: var(--fill-color);\n",
              "      border-top-color: var(--fill-color);\n",
              "      border-right-color: var(--fill-color);\n",
              "    }\n",
              "    40% {\n",
              "      border-color: transparent;\n",
              "      border-right-color: var(--fill-color);\n",
              "      border-top-color: var(--fill-color);\n",
              "    }\n",
              "    60% {\n",
              "      border-color: transparent;\n",
              "      border-right-color: var(--fill-color);\n",
              "    }\n",
              "    80% {\n",
              "      border-color: transparent;\n",
              "      border-right-color: var(--fill-color);\n",
              "      border-bottom-color: var(--fill-color);\n",
              "    }\n",
              "    90% {\n",
              "      border-color: transparent;\n",
              "      border-bottom-color: var(--fill-color);\n",
              "    }\n",
              "  }\n",
              "</style>\n",
              "\n",
              "  <script>\n",
              "    async function quickchart(key) {\n",
              "      const quickchartButtonEl =\n",
              "        document.querySelector('#' + key + ' button');\n",
              "      quickchartButtonEl.disabled = true;  // To prevent multiple clicks.\n",
              "      quickchartButtonEl.classList.add('colab-df-spinner');\n",
              "      try {\n",
              "        const charts = await google.colab.kernel.invokeFunction(\n",
              "            'suggestCharts', [key], {});\n",
              "      } catch (error) {\n",
              "        console.error('Error during call to suggestCharts:', error);\n",
              "      }\n",
              "      quickchartButtonEl.classList.remove('colab-df-spinner');\n",
              "      quickchartButtonEl.classList.add('colab-df-quickchart-complete');\n",
              "    }\n",
              "    (() => {\n",
              "      let quickchartButtonEl =\n",
              "        document.querySelector('#df-649bdb88-ee4e-4fc7-b94b-dafc2305cfac button');\n",
              "      quickchartButtonEl.style.display =\n",
              "        google.colab.kernel.accessAllowed ? 'block' : 'none';\n",
              "    })();\n",
              "  </script>\n",
              "</div>\n",
              "\n",
              "    </div>\n",
              "  </div>\n"
            ]
          },
          "metadata": {},
          "execution_count": 44
        }
      ],
      "source": [
        "metrics.head()"
      ]
    },
    {
      "cell_type": "code",
      "execution_count": null,
      "metadata": {
        "colab": {
          "base_uri": "https://localhost:8080/",
          "height": 430
        },
        "id": "nM9KUT3tuOX3",
        "outputId": "54cb1181-5b98-46a4-cc41-ac4cb1b983c9"
      },
      "outputs": [
        {
          "output_type": "display_data",
          "data": {
            "text/plain": [
              "<Figure size 640x480 with 1 Axes>"
            ],
            "image/png": "[encoded data removed]"
          },
          "metadata": {}
        }
      ],
      "source": [
        "metrics[['accuracy','val_accuracy']].plot()\n",
        "plt.show()"
      ]
    },
    {
      "cell_type": "code",
      "execution_count": null,
      "metadata": {
        "colab": {
          "base_uri": "https://localhost:8080/",
          "height": 430
        },
        "id": "LFSmjS_j1B7l",
        "outputId": "1f4260cd-5f82-4419-eeb6-7cf7bf136e02"
      },
      "outputs": [
        {
          "output_type": "display_data",
          "data": {
            "text/plain": [
              "<Figure size 640x480 with 1 Axes>"
            ],
            "image/png": "[encoded data removed]"
          },
          "metadata": {}
        }
      ],
      "source": [
        "metrics[['loss','val_loss']].plot()\n",
        "plt.show()"
      ]
    },
    {
      "cell_type": "markdown",
      "metadata": {
        "id": "FtksL6cbGhfM"
      },
      "source": [
        "# Data Augmentation\n",
        "\n",
        "\n"
      ]
    },
    {
      "cell_type": "code",
      "execution_count": null,
      "metadata": {
        "id": "RdScnVAvGhfM"
      },
      "outputs": [],
      "source": [
        "data_augmentation = keras.Sequential(\n",
        "    [\n",
        "        layers.RandomFlip(\"horizontal\"),\n",
        "        layers.RandomRotation(0.1),\n",
        "        layers.RandomZoom(0.2),\n",
        "    ]\n",
        ")"
      ]
    },
    {
      "cell_type": "code",
      "execution_count": null,
      "metadata": {
        "colab": {
          "base_uri": "https://localhost:8080/",
          "height": 430
        },
        "id": "BZmMD4B9EpUo",
        "outputId": "27275e50-6548-41fc-9f6b-17dc4a0cca9f"
      },
      "outputs": [
        {
          "output_type": "display_data",
          "data": {
            "text/plain": [
              "<Figure size 640x480 with 1 Axes>"
            ],
            "image/png": "[encoded data removed]"
          },
          "metadata": {}
        }
      ],
      "source": [
        "plt.imshow(x_train[0].reshape(28,28))\n",
        "plt.show()"
      ]
    },
    {
      "cell_type": "code",
      "execution_count": null,
      "metadata": {
        "colab": {
          "base_uri": "https://localhost:8080/"
        },
        "id": "Pxy1JYa2FFxw",
        "outputId": "b69de020-96fd-4ee3-d9c8-f1176ef2711c"
      },
      "outputs": [
        {
          "output_type": "execute_result",
          "data": {
            "text/plain": [
              "(28, 28, 1)"
            ]
          },
          "metadata": {},
          "execution_count": 49
        }
      ],
      "source": [
        "image = x_train[0]\n",
        "image.shape"
      ]
    },
    {
      "cell_type": "code",
      "execution_count": null,
      "metadata": {
        "colab": {
          "base_uri": "https://localhost:8080/"
        },
        "id": "bqQy9_B_GGSI",
        "outputId": "0d7b7137-e467-4bdb-f908-71ec85078bb7"
      },
      "outputs": [
        {
          "output_type": "execute_result",
          "data": {
            "text/plain": [
              "(28, 28, 1)"
            ]
          },
          "metadata": {},
          "execution_count": 50
        }
      ],
      "source": [
        "data_augmentation(image).numpy().shape"
      ]
    },
    {
      "cell_type": "code",
      "execution_count": null,
      "metadata": {
        "colab": {
          "base_uri": "https://localhost:8080/",
          "height": 659
        },
        "id": "UIjp2sPdGhfN",
        "outputId": "830a1bb5-23e1-44b6-d186-54641c01f53d"
      },
      "outputs": [
        {
          "output_type": "display_data",
          "data": {
            "text/plain": [
              "<Figure size 1000x1000 with 9 Axes>"
            ],
            "image/png": "[encoded data removed]"
          },
          "metadata": {}
        }
      ],
      "source": [
        "plt.figure(figsize=(10, 10))\n",
        "for i in range(9):\n",
        "    augmented_images = data_augmentation(image)\n",
        "    ax = plt.subplot(3, 3, i + 1)\n",
        "\n",
        "    plt.imshow(augmented_images.numpy().reshape(28,28))\n",
        "    plt.axis(\"off\")"
      ]
    },
    {
      "cell_type": "code",
      "execution_count": null,
      "metadata": {
        "colab": {
          "base_uri": "https://localhost:8080/"
        },
        "id": "hPdFazNH0-Wo",
        "outputId": "4fdecd4c-66e3-4639-fa51-4e19e5809195"
      },
      "outputs": [
        {
          "output_type": "execute_result",
          "data": {
            "text/plain": [
              "TensorShape([60000, 28, 28])"
            ]
          },
          "metadata": {},
          "execution_count": 52
        }
      ],
      "source": [
        "x= data_augmentation(x_train)\n",
        "x.shape\n"
      ]
    },
    {
      "cell_type": "code",
      "execution_count": null,
      "metadata": {
        "colab": {
          "base_uri": "https://localhost:8080/"
        },
        "id": "6bx7Pj7W0-Wo",
        "outputId": "1f7156f0-5c1a-43c5-bd63-5753dee74f50"
      },
      "outputs": [
        {
          "output_type": "execute_result",
          "data": {
            "text/plain": [
              "TensorShape([60000, 28, 28, 1])"
            ]
          },
          "metadata": {},
          "execution_count": 53
        }
      ],
      "source": [
        "x = tf.expand_dims(x, axis=-1)\n",
        "x.shape"
      ]
    },
    {
      "cell_type": "code",
      "execution_count": null,
      "metadata": {
        "colab": {
          "base_uri": "https://localhost:8080/"
        },
        "id": "RaoMMh0A0-Wo",
        "outputId": "7ce21840-3858-40f3-8751-6a1e4239fbb2"
      },
      "outputs": [
        {
          "output_type": "execute_result",
          "data": {
            "text/plain": [
              "TensorShape([60000, 28, 28])"
            ]
          },
          "metadata": {},
          "execution_count": 54
        }
      ],
      "source": [
        "x = tf.squeeze(x, axis=-1)\n",
        "x.shape"
      ]
    },
    {
      "cell_type": "code",
      "execution_count": null,
      "metadata": {
        "id": "a6MDbQrhGhfN"
      },
      "outputs": [],
      "source": [
        "def CNN_builder_augmented():\n",
        "  inputs= keras.Input(shape=(28,28,1), name='Input layer')\n",
        "  x = data_augmentation(inputs)\n",
        "  x = layers.Rescaling(1./255)(x)  # Add rescaling to normalize the data\n",
        "  # Explicitly set the shape to ensure the augmented data is in the correct format\n",
        "  x = layers.Reshape((28, 28, 1))(x)\n",
        "  x = layers.Conv2D(filters= 32, kernel_size = 3, strides = (1,1) , padding='valid',  activation='relu' ,name=\"conv_layer_1\")(x)\n",
        "  x = layers.MaxPool2D(pool_size=2, name=\"pooling_1\")(x)\n",
        "  x = layers.Conv2D(filters= 64, kernel_size = 3, activation='relu', name=\"conv_layer_2\")(x)\n",
        "  x = layers.MaxPool2D(pool_size=2, name=\"pooling_2\")(x)\n",
        "  x = layers.Conv2D(filters= 128, kernel_size = 3, activation='relu', name=\"conv_layer_3\")(x)\n",
        "  x = layers.Flatten(name=\"flattening_layer\")(x)\n",
        "  x = layers.Dropout(0.5)(x)\n",
        "\n",
        "  outputs = layers.Dense(units= 10, activation='softmax', name='output_layer')(x)\n",
        "\n",
        "  model = keras.Model(inputs= inputs , outputs=outputs, name='CNN_augmented_model')\n",
        "\n",
        "  model.compile(optimizer='rmsprop',\n",
        "                loss='categorical_crossentropy',\n",
        "                metrics=['accuracy'])\n",
        "  return model"
      ]
    },
    {
      "cell_type": "code",
      "execution_count": null,
      "metadata": {
        "colab": {
          "base_uri": "https://localhost:8080/"
        },
        "id": "mW9--VuZGhfN",
        "outputId": "bdc5fd3e-4fa2-4bf2-8441-c6d51aa973d7"
      },
      "outputs": [
        {
          "output_type": "stream",
          "name": "stdout",
          "text": [
            "Model: \"CNN_augmented_model\"\n",
            "_________________________________________________________________\n",
            " Layer (type)                Output Shape              Param #   \n",
            "=================================================================\n",
            " Input layer (InputLayer)    [(None, 28, 28, 1)]       0         \n",
            "                                                                 \n",
            " sequential (Sequential)     (28, 28, 1)               0         \n",
            "                                                                 \n",
            " rescaling (Rescaling)       (None, 28, 28)            0         \n",
            "                                                                 \n",
            " reshape (Reshape)           (None, 28, 28, 1)         0         \n",
            "                                                                 \n",
            " conv_layer_1 (Conv2D)       (None, 26, 26, 32)        320       \n",
            "                                                                 \n",
            " pooling_1 (MaxPooling2D)    (None, 13, 13, 32)        0         \n",
            "                                                                 \n",
            " conv_layer_2 (Conv2D)       (None, 11, 11, 64)        18496     \n",
            "                                                                 \n",
            " pooling_2 (MaxPooling2D)    (None, 5, 5, 64)          0         \n",
            "                                                                 \n",
            " conv_layer_3 (Conv2D)       (None, 3, 3, 128)         73856     \n",
            "                                                                 \n",
            " flattening_layer (Flatten)  (None, 1152)              0         \n",
            "                                                                 \n",
            " dropout (Dropout)           (None, 1152)              0         \n",
            "                                                                 \n",
            " output_layer (Dense)        (None, 10)                11530     \n",
            "                                                                 \n",
            "=================================================================\n",
            "Total params: 104202 (407.04 KB)\n",
            "Trainable params: 104202 (407.04 KB)\n",
            "Non-trainable params: 0 (0.00 Byte)\n",
            "_________________________________________________________________\n"
          ]
        }
      ],
      "source": [
        "model_augmented = CNN_builder_augmented()\n",
        "model_augmented.summary()\n"
      ]
    },
    {
      "cell_type": "markdown",
      "metadata": {
        "id": "euRFej7QGhfN"
      },
      "source": [
        "## Model fit\n"
      ]
    },
    {
      "cell_type": "code",
      "execution_count": null,
      "metadata": {
        "id": "1AsU813HGhfN"
      },
      "outputs": [],
      "source": [
        "from tensorflow.keras.callbacks import  ModelCheckpoint\n",
        "modelcheckpoint  = ModelCheckpoint(filepath=\"CNN_augmented.h5\",save_best_only=True, monitor=\"val_loss\")\n",
        "callback_list    = [modelcheckpoint]"
      ]
    },
    {
      "cell_type": "code",
      "execution_count": null,
      "metadata": {
        "colab": {
          "base_uri": "https://localhost:8080/"
        },
        "id": "NFpH-aQPGhfN",
        "outputId": "0f2df13b-f1db-4859-aa5f-945028b0fa18"
      },
      "outputs": [
        {
          "output_type": "stream",
          "name": "stdout",
          "text": [
            "Epoch 1/30\n",
            "469/469 [==============================] - 4s 8ms/step - loss: 2.3027 - accuracy: 0.0990 - val_loss: 2.3026 - val_accuracy: 0.1000\n",
            "Epoch 2/30\n",
            " 28/469 [>.............................] - ETA: 2s - loss: 2.3027 - accuracy: 0.0988"
          ]
        },
        {
          "output_type": "stream",
          "name": "stderr",
          "text": [
            "/usr/local/lib/python3.10/dist-packages/keras/src/engine/training.py:3103: UserWarning: You are saving your model as an HDF5 file via `model.save()`. This file format is considered legacy. We recommend using instead the native Keras format, e.g. `model.save('my_model.keras')`.\n",
            "  saving_api.save_model(\n"
          ]
        },
        {
          "output_type": "stream",
          "name": "stdout",
          "text": [
            "469/469 [==============================] - 3s 7ms/step - loss: 2.3027 - accuracy: 0.0967 - val_loss: 2.3026 - val_accuracy: 0.1000\n",
            "Epoch 3/30\n",
            "469/469 [==============================] - 3s 7ms/step - loss: 2.3027 - accuracy: 0.0986 - val_loss: 2.3026 - val_accuracy: 0.1000\n",
            "Epoch 4/30\n",
            "469/469 [==============================] - 4s 8ms/step - loss: 2.3027 - accuracy: 0.0973 - val_loss: 2.3026 - val_accuracy: 0.1000\n",
            "Epoch 5/30\n",
            "469/469 [==============================] - 3s 7ms/step - loss: 2.3027 - accuracy: 0.0989 - val_loss: 2.3026 - val_accuracy: 0.1000\n",
            "Epoch 6/30\n",
            "469/469 [==============================] - 3s 7ms/step - loss: 2.3027 - accuracy: 0.0974 - val_loss: 2.3026 - val_accuracy: 0.1000\n",
            "Epoch 7/30\n",
            "469/469 [==============================] - 3s 7ms/step - loss: 2.3027 - accuracy: 0.0992 - val_loss: 2.3026 - val_accuracy: 0.1000\n",
            "Epoch 8/30\n",
            "469/469 [==============================] - 4s 8ms/step - loss: 2.3027 - accuracy: 0.0968 - val_loss: 2.3026 - val_accuracy: 0.1000\n",
            "Epoch 9/30\n",
            "469/469 [==============================] - 3s 7ms/step - loss: 2.3027 - accuracy: 0.0983 - val_loss: 2.3026 - val_accuracy: 0.1000\n",
            "Epoch 10/30\n",
            "469/469 [==============================] - 3s 7ms/step - loss: 2.3027 - accuracy: 0.0981 - val_loss: 2.3026 - val_accuracy: 0.1000\n",
            "Epoch 11/30\n",
            "469/469 [==============================] - 3s 7ms/step - loss: 2.3027 - accuracy: 0.0979 - val_loss: 2.3026 - val_accuracy: 0.1000\n",
            "Epoch 12/30\n",
            "469/469 [==============================] - 4s 9ms/step - loss: 2.3027 - accuracy: 0.0987 - val_loss: 2.3026 - val_accuracy: 0.1000\n",
            "Epoch 13/30\n",
            "469/469 [==============================] - 3s 7ms/step - loss: 2.3027 - accuracy: 0.0979 - val_loss: 2.3026 - val_accuracy: 0.1000\n",
            "Epoch 14/30\n",
            "469/469 [==============================] - 3s 7ms/step - loss: 2.3027 - accuracy: 0.0984 - val_loss: 2.3026 - val_accuracy: 0.1000\n",
            "Epoch 15/30\n",
            "469/469 [==============================] - 3s 7ms/step - loss: 2.3027 - accuracy: 0.0975 - val_loss: 2.3026 - val_accuracy: 0.1000\n",
            "Epoch 16/30\n",
            "469/469 [==============================] - 4s 8ms/step - loss: 2.3027 - accuracy: 0.0996 - val_loss: 2.3026 - val_accuracy: 0.1000\n",
            "Epoch 17/30\n",
            "469/469 [==============================] - 3s 7ms/step - loss: 2.3027 - accuracy: 0.0985 - val_loss: 2.3026 - val_accuracy: 0.1000\n",
            "Epoch 18/30\n",
            "469/469 [==============================] - 3s 7ms/step - loss: 2.3027 - accuracy: 0.0969 - val_loss: 2.3026 - val_accuracy: 0.1000\n",
            "Epoch 19/30\n",
            "469/469 [==============================] - 4s 8ms/step - loss: 2.3027 - accuracy: 0.0978 - val_loss: 2.3026 - val_accuracy: 0.1000\n",
            "Epoch 20/30\n",
            "469/469 [==============================] - 4s 8ms/step - loss: 2.3027 - accuracy: 0.0976 - val_loss: 2.3026 - val_accuracy: 0.1000\n",
            "Epoch 21/30\n",
            "469/469 [==============================] - 3s 7ms/step - loss: 2.3027 - accuracy: 0.0991 - val_loss: 2.3026 - val_accuracy: 0.1000\n",
            "Epoch 22/30\n",
            "469/469 [==============================] - 4s 8ms/step - loss: 2.3027 - accuracy: 0.0992 - val_loss: 2.3026 - val_accuracy: 0.1000\n",
            "Epoch 23/30\n",
            "469/469 [==============================] - 4s 9ms/step - loss: 2.3027 - accuracy: 0.0990 - val_loss: 2.3026 - val_accuracy: 0.1000\n",
            "Epoch 24/30\n",
            "469/469 [==============================] - 3s 7ms/step - loss: 2.3027 - accuracy: 0.0971 - val_loss: 2.3026 - val_accuracy: 0.1000\n",
            "Epoch 25/30\n",
            "469/469 [==============================] - 3s 7ms/step - loss: 2.3027 - accuracy: 0.0981 - val_loss: 2.3026 - val_accuracy: 0.1000\n",
            "Epoch 26/30\n",
            "469/469 [==============================] - 3s 7ms/step - loss: 2.3027 - accuracy: 0.0990 - val_loss: 2.3026 - val_accuracy: 0.1000\n",
            "Epoch 27/30\n",
            "469/469 [==============================] - 4s 8ms/step - loss: 2.3027 - accuracy: 0.0977 - val_loss: 2.3026 - val_accuracy: 0.1000\n",
            "Epoch 28/30\n",
            "469/469 [==============================] - 3s 7ms/step - loss: 2.3027 - accuracy: 0.0975 - val_loss: 2.3026 - val_accuracy: 0.1000\n",
            "Epoch 29/30\n",
            "469/469 [==============================] - 3s 7ms/step - loss: 2.3027 - accuracy: 0.0996 - val_loss: 2.3026 - val_accuracy: 0.1000\n",
            "Epoch 30/30\n",
            "469/469 [==============================] - 3s 7ms/step - loss: 2.3027 - accuracy: 0.0988 - val_loss: 2.3026 - val_accuracy: 0.1000\n"
          ]
        }
      ],
      "source": [
        "history = model_augmented.fit(x=x_train, y=y_train_ohe, validation_data=(x_test, y_test_ohe),\n",
        "          epochs=30, batch_size=128, callbacks=callback_list)"
      ]
    },
    {
      "cell_type": "code",
      "execution_count": null,
      "metadata": {
        "colab": {
          "base_uri": "https://localhost:8080/"
        },
        "id": "pPOvJnreGhfN",
        "outputId": "3f082916-5e29-4de3-8fbe-68104ca2b518"
      },
      "outputs": [
        {
          "name": "stdout",
          "output_type": "stream",
          "text": [
            "313/313 [==============================] - 0s 1ms/step - loss: 0.3885 - accuracy: 0.8597\n"
          ]
        },
        {
          "data": {
            "text/plain": [
              "[0.38848817348480225, 0.8597000241279602]"
            ]
          },
          "execution_count": 58,
          "metadata": {},
          "output_type": "execute_result"
        }
      ],
      "source": [
        "model_augmented.evaluate(x_test, y_test_ohe)"
      ]
    },
    {
      "cell_type": "markdown",
      "metadata": {
        "id": "0uBvv1GQGhfO"
      },
      "source": [
        "here we got 85 percent accuracy"
      ]
    },
    {
      "cell_type": "markdown",
      "metadata": {
        "id": "imhzxV933P3s"
      },
      "source": [
        "# Done"
      ]
    }
  ],
  "metadata": {
    "accelerator": "GPU",
    "colab": {
      "provenance": []
    },
    "gpuClass": "standard",
    "kernelspec": {
      "display_name": "tf",
      "language": "python",
      "name": "python3"
    },
    "language_info": {
      "codemirror_mode": {
        "name": "ipython",
        "version": 3
      },
      "file_extension": ".py",
      "mimetype": "text/x-python",
      "name": "python",
      "nbconvert_exporter": "python",
      "pygments_lexer": "ipython3",
      "version": "3.9.18"
    },
    "vscode": {
      "interpreter": {
        "hash": "a9063ff2262220159f9d0422687c0477cf7937962d72300ed35684f58e95be43"
      }
    }
  },
  "nbformat": 4,
  "nbformat_minor": 0
}